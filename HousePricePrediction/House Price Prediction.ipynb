{
 "cells": [
  {
   "cell_type": "code",
   "execution_count": 1,
   "metadata": {},
   "outputs": [],
   "source": [
    "import pandas as pd\n",
    "import tensorflow as tf\n",
    "import matplotlib.pyplot as plt\n",
    "import seaborn as sns"
   ]
  },
  {
   "cell_type": "code",
   "execution_count": 2,
   "metadata": {},
   "outputs": [
    {
     "name": "stdout",
     "output_type": "stream",
     "text": [
      "        MSSubClass  LotFrontage        LotArea  OverallQual  OverallCond  \\\n",
      "count  1460.000000  1201.000000    1460.000000  1460.000000  1460.000000   \n",
      "mean     56.897260    70.049958   10516.828082     6.099315     5.575342   \n",
      "std      42.300571    24.284752    9981.264932     1.382997     1.112799   \n",
      "min      20.000000    21.000000    1300.000000     1.000000     1.000000   \n",
      "25%      20.000000    59.000000    7553.500000     5.000000     5.000000   \n",
      "50%      50.000000    69.000000    9478.500000     6.000000     5.000000   \n",
      "75%      70.000000    80.000000   11601.500000     7.000000     6.000000   \n",
      "max     190.000000   313.000000  215245.000000    10.000000     9.000000   \n",
      "\n",
      "         YearBuilt  YearRemodAdd   MasVnrArea   BsmtFinSF1   BsmtFinSF2  \\\n",
      "count  1460.000000   1460.000000  1452.000000  1460.000000  1460.000000   \n",
      "mean   1971.267808   1984.865753   103.685262   443.639726    46.549315   \n",
      "std      30.202904     20.645407   181.066207   456.098091   161.319273   \n",
      "min    1872.000000   1950.000000     0.000000     0.000000     0.000000   \n",
      "25%    1954.000000   1967.000000     0.000000     0.000000     0.000000   \n",
      "50%    1973.000000   1994.000000     0.000000   383.500000     0.000000   \n",
      "75%    2000.000000   2004.000000   166.000000   712.250000     0.000000   \n",
      "max    2010.000000   2010.000000  1600.000000  5644.000000  1474.000000   \n",
      "\n",
      "           ...         WoodDeckSF  OpenPorchSF  EnclosedPorch    3SsnPorch  \\\n",
      "count      ...        1460.000000  1460.000000    1460.000000  1460.000000   \n",
      "mean       ...          94.244521    46.660274      21.954110     3.409589   \n",
      "std        ...         125.338794    66.256028      61.119149    29.317331   \n",
      "min        ...           0.000000     0.000000       0.000000     0.000000   \n",
      "25%        ...           0.000000     0.000000       0.000000     0.000000   \n",
      "50%        ...           0.000000    25.000000       0.000000     0.000000   \n",
      "75%        ...         168.000000    68.000000       0.000000     0.000000   \n",
      "max        ...         857.000000   547.000000     552.000000   508.000000   \n",
      "\n",
      "       ScreenPorch     PoolArea       MiscVal       MoSold       YrSold  \\\n",
      "count  1460.000000  1460.000000   1460.000000  1460.000000  1460.000000   \n",
      "mean     15.060959     2.758904     43.489041     6.321918  2007.815753   \n",
      "std      55.757415    40.177307    496.123024     2.703626     1.328095   \n",
      "min       0.000000     0.000000      0.000000     1.000000  2006.000000   \n",
      "25%       0.000000     0.000000      0.000000     5.000000  2007.000000   \n",
      "50%       0.000000     0.000000      0.000000     6.000000  2008.000000   \n",
      "75%       0.000000     0.000000      0.000000     8.000000  2009.000000   \n",
      "max     480.000000   738.000000  15500.000000    12.000000  2010.000000   \n",
      "\n",
      "           SalePrice  \n",
      "count    1460.000000  \n",
      "mean   180921.195890  \n",
      "std     79442.502883  \n",
      "min     34900.000000  \n",
      "25%    129975.000000  \n",
      "50%    163000.000000  \n",
      "75%    214000.000000  \n",
      "max    755000.000000  \n",
      "\n",
      "[8 rows x 37 columns]\n",
      "Index(['MSSubClass', 'MSZoning', 'LotFrontage', 'LotArea', 'Street', 'Alley',\n",
      "       'LotShape', 'LandContour', 'Utilities', 'LotConfig', 'LandSlope',\n",
      "       'Neighborhood', 'Condition1', 'Condition2', 'BldgType', 'HouseStyle',\n",
      "       'OverallQual', 'OverallCond', 'YearBuilt', 'YearRemodAdd', 'RoofStyle',\n",
      "       'RoofMatl', 'Exterior1st', 'Exterior2nd', 'MasVnrType', 'MasVnrArea',\n",
      "       'ExterQual', 'ExterCond', 'Foundation', 'BsmtQual', 'BsmtCond',\n",
      "       'BsmtExposure', 'BsmtFinType1', 'BsmtFinSF1', 'BsmtFinType2',\n",
      "       'BsmtFinSF2', 'BsmtUnfSF', 'TotalBsmtSF', 'Heating', 'HeatingQC',\n",
      "       'CentralAir', 'Electrical', '1stFlrSF', '2ndFlrSF', 'LowQualFinSF',\n",
      "       'GrLivArea', 'BsmtFullBath', 'BsmtHalfBath', 'FullBath', 'HalfBath',\n",
      "       'BedroomAbvGr', 'KitchenAbvGr', 'KitchenQual', 'TotRmsAbvGrd',\n",
      "       'Functional', 'Fireplaces', 'FireplaceQu', 'GarageType', 'GarageYrBlt',\n",
      "       'GarageFinish', 'GarageCars', 'GarageArea', 'GarageQual', 'GarageCond',\n",
      "       'PavedDrive', 'WoodDeckSF', 'OpenPorchSF', 'EnclosedPorch', '3SsnPorch',\n",
      "       'ScreenPorch', 'PoolArea', 'PoolQC', 'Fence', 'MiscFeature', 'MiscVal',\n",
      "       'MoSold', 'YrSold', 'SaleType', 'SaleCondition', 'SalePrice'],\n",
      "      dtype='object')\n"
     ]
    }
   ],
   "source": [
    "dataPath = \"data/train.csv\"\n",
    "df = pd.read_csv(dataPath, index_col='Id')\n",
    "\n",
    "print (df.describe())\n",
    "\n",
    "print (df.columns)\n",
    "\n"
   ]
  },
  {
   "cell_type": "code",
   "execution_count": 3,
   "metadata": {},
   "outputs": [
    {
     "name": "stdout",
     "output_type": "stream",
     "text": [
      "PoolQC          99.520548\n",
      "MiscFeature     96.301370\n",
      "Alley           93.767123\n",
      "Fence           80.753425\n",
      "FireplaceQu     47.260274\n",
      "LotFrontage     17.739726\n",
      "GarageType       5.547945\n",
      "GarageCond       5.547945\n",
      "GarageFinish     5.547945\n",
      "GarageQual       5.547945\n",
      "GarageYrBlt      5.547945\n",
      "BsmtFinType2     2.602740\n",
      "BsmtExposure     2.602740\n",
      "BsmtQual         2.534247\n",
      "BsmtCond         2.534247\n",
      "BsmtFinType1     2.534247\n",
      "MasVnrArea       0.547945\n",
      "MasVnrType       0.547945\n",
      "Electrical       0.068493\n",
      "RoofMatl         0.000000\n",
      "dtype: float64\n"
     ]
    }
   ],
   "source": [
    "# Check if any column contains a NaN value\n",
    "#print(df.isnull().any())\n",
    "\n",
    "# Provides a NaN count for each column.\n",
    "#print(df.isnull().sum())\n",
    "\n",
    "# Checking % data is null set in the data columns\n",
    "null_col = (df.isnull().sum()/len(df)) * 100\n",
    "null_col = null_col.sort_values(ascending=False)\n",
    "print(null_col[:20])\n",
    "\n",
    "# Remove column if all value in it are NaN.\n",
    "#df = df.dropna(axis=1, how='all')\n",
    "\n",
    "# Remove row if all value in it are NaN.\n",
    "#df = df.dropna(axis=0, how='all')\n",
    "\n",
    "#df = df.isnull().sum()\n",
    "#print (df)"
   ]
  },
  {
   "cell_type": "code",
   "execution_count": 4,
   "metadata": {},
   "outputs": [
    {
     "name": "stdout",
     "output_type": "stream",
     "text": [
      "Index(['MSSubClass', 'MSZoning', 'LotFrontage', 'LotArea', 'Street',\n",
      "       'LotShape', 'LandContour', 'Utilities', 'LotConfig', 'LandSlope',\n",
      "       'Neighborhood', 'Condition1', 'Condition2', 'BldgType', 'HouseStyle',\n",
      "       'OverallQual', 'OverallCond', 'YearBuilt', 'YearRemodAdd', 'RoofStyle',\n",
      "       'RoofMatl', 'Exterior1st', 'Exterior2nd', 'MasVnrType', 'MasVnrArea',\n",
      "       'ExterQual', 'ExterCond', 'Foundation', 'BsmtQual', 'BsmtCond',\n",
      "       'BsmtExposure', 'BsmtFinType1', 'BsmtFinSF1', 'BsmtFinType2',\n",
      "       'BsmtFinSF2', 'BsmtUnfSF', 'TotalBsmtSF', 'Heating', 'HeatingQC',\n",
      "       'CentralAir', 'Electrical', '1stFlrSF', '2ndFlrSF', 'LowQualFinSF',\n",
      "       'GrLivArea', 'BsmtFullBath', 'BsmtHalfBath', 'FullBath', 'HalfBath',\n",
      "       'BedroomAbvGr', 'KitchenAbvGr', 'KitchenQual', 'TotRmsAbvGrd',\n",
      "       'Functional', 'Fireplaces', 'GarageType', 'GarageYrBlt', 'GarageFinish',\n",
      "       'GarageCars', 'GarageArea', 'GarageQual', 'GarageCond', 'PavedDrive',\n",
      "       'WoodDeckSF', 'OpenPorchSF', 'EnclosedPorch', '3SsnPorch',\n",
      "       'ScreenPorch', 'PoolArea', 'MiscVal', 'MoSold', 'YrSold', 'SaleType',\n",
      "       'SaleCondition', 'SalePrice'],\n",
      "      dtype='object')\n"
     ]
    }
   ],
   "source": [
    "# Dropping columns which has mostly all data cell as Null\n",
    "df.drop(columns= {'PoolQC', 'MiscFeature', 'Alley', 'Fence', 'FireplaceQu'}, inplace=True)\n",
    "print(df.columns)"
   ]
  },
  {
   "cell_type": "code",
   "execution_count": null,
   "metadata": {},
   "outputs": [],
   "source": []
  }
 ],
 "metadata": {
  "kernelspec": {
   "display_name": "Python 3",
   "language": "python",
   "name": "python3"
  },
  "language_info": {
   "codemirror_mode": {
    "name": "ipython",
    "version": 3
   },
   "file_extension": ".py",
   "mimetype": "text/x-python",
   "name": "python",
   "nbconvert_exporter": "python",
   "pygments_lexer": "ipython3",
   "version": "3.6.5"
  }
 },
 "nbformat": 4,
 "nbformat_minor": 2
}
