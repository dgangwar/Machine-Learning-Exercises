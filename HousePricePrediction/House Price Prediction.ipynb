{
 "cells": [
  {
   "cell_type": "code",
   "execution_count": 1,
   "metadata": {},
   "outputs": [],
   "source": [
    "import pandas as pd\n",
    "import tensorflow as tf\n",
    "import matplotlib.pyplot as plt\n",
    "import seaborn as sns"
   ]
  },
  {
   "cell_type": "code",
   "execution_count": 2,
   "metadata": {},
   "outputs": [
    {
     "name": "stdout",
     "output_type": "stream",
     "text": [
      "(1459, 79)\n",
      "(1460, 79)\n"
     ]
    }
   ],
   "source": [
    "train = \"data/train.csv\"\n",
    "test = \"data/test.csv\"\n",
    "\n",
    "\n",
    "train_df = pd.read_csv(train, index_col='Id')\n",
    "test_df = pd.read_csv(test, index_col='Id')\n",
    "\n",
    "Y_col = train_df['SalePrice']\n",
    "\n",
    "train_df = train_df.drop(columns = 'SalePrice')\n",
    "\n",
    "all_data = pd.concat((train_df, test_df), sort=False)\n",
    "\n",
    "print(test_df.shape)\n",
    "print(train_df.shape)"
   ]
  },
  {
   "cell_type": "code",
   "execution_count": 3,
   "metadata": {},
   "outputs": [],
   "source": [
    "# Check if any column contains a NaN value\n",
    "#print(df.isnull().any())\n",
    "\n",
    "# Provides a NaN count for each column.\n",
    "#print(df.isnull().sum())\n",
    "\n",
    "# Checking % data is null set in the data columns\n",
    "null_col = (all_data.isnull().sum()/len(all_data)) * 100\n",
    "null_col = null_col.sort_values(ascending=False)\n",
    "#print(null_col[:40])\n",
    "#print(all_data.isnull().sum().sort_values(ascending=False)[:20])\n",
    "\n",
    "# Remove column if all value in it are NaN.\n",
    "#df = df.dropna(axis=1, how='all')\n",
    "\n",
    "# Remove row if all value in it are NaN.\n",
    "#df = df.dropna(axis=0, how='all')\n",
    "\n",
    "#df = df.isnull().sum()\n",
    "#print (df)"
   ]
  },
  {
   "cell_type": "code",
   "execution_count": 4,
   "metadata": {},
   "outputs": [
    {
     "name": "stdout",
     "output_type": "stream",
     "text": [
      "Index(['MSSubClass', 'MSZoning', 'LotFrontage', 'LotArea', 'Street',\n",
      "       'LotShape', 'LandContour', 'Utilities', 'LotConfig', 'LandSlope',\n",
      "       'Neighborhood', 'Condition1', 'Condition2', 'BldgType', 'HouseStyle',\n",
      "       'OverallQual', 'OverallCond', 'YearBuilt', 'YearRemodAdd', 'RoofStyle',\n",
      "       'RoofMatl', 'Exterior1st', 'Exterior2nd', 'MasVnrType', 'MasVnrArea',\n",
      "       'ExterQual', 'ExterCond', 'Foundation', 'BsmtQual', 'BsmtCond',\n",
      "       'BsmtExposure', 'BsmtFinType1', 'BsmtFinSF1', 'BsmtFinType2',\n",
      "       'BsmtFinSF2', 'BsmtUnfSF', 'TotalBsmtSF', 'Heating', 'HeatingQC',\n",
      "       'CentralAir', 'Electrical', '1stFlrSF', '2ndFlrSF', 'LowQualFinSF',\n",
      "       'GrLivArea', 'BsmtFullBath', 'BsmtHalfBath', 'FullBath', 'HalfBath',\n",
      "       'BedroomAbvGr', 'KitchenAbvGr', 'KitchenQual', 'TotRmsAbvGrd',\n",
      "       'Functional', 'Fireplaces', 'GarageType', 'GarageYrBlt', 'GarageFinish',\n",
      "       'GarageCars', 'GarageArea', 'GarageQual', 'GarageCond', 'PavedDrive',\n",
      "       'WoodDeckSF', 'OpenPorchSF', 'EnclosedPorch', '3SsnPorch',\n",
      "       'ScreenPorch', 'PoolArea', 'MiscVal', 'MoSold', 'YrSold', 'SaleType',\n",
      "       'SaleCondition'],\n",
      "      dtype='object')\n"
     ]
    }
   ],
   "source": [
    "# Dropping columns which has mostly all data cell as Null\n",
    "all_data = all_data.drop(columns = {'PoolQC', 'MiscFeature', 'Alley', 'Fence', 'FireplaceQu'})\n",
    "print(all_data.columns)"
   ]
  },
  {
   "cell_type": "code",
   "execution_count": 5,
   "metadata": {},
   "outputs": [
    {
     "name": "stdout",
     "output_type": "stream",
     "text": [
      "0\n"
     ]
    }
   ],
   "source": [
    "#Filling LotForntage cell with median value\n",
    "LotFrontAge_Col_Grouped = all_data.groupby(\"Neighborhood\")[\"LotFrontage\"]\n",
    "\n",
    "#Check each tuple values\n",
    "#for item in LotFrontAge_Col_Grouped:\n",
    "    #print(item)\n",
    "    \n",
    "all_data['LotFrontage'] = LotFrontAge_Col_Grouped.transform(lambda x : x.fillna(x.median()))\n",
    "\n",
    "#Check NaN values\n",
    "print(all_data['LotFrontage'].isnull().sum())"
   ]
  },
  {
   "cell_type": "code",
   "execution_count": 6,
   "metadata": {},
   "outputs": [
    {
     "name": "stdout",
     "output_type": "stream",
     "text": [
      "0\n",
      "0\n",
      "0\n",
      "0\n",
      "0\n"
     ]
    }
   ],
   "source": [
    "#Filling Garage related columns missing value with 0\n",
    "\n",
    "for col in ('GarageType', 'GarageFinish', 'GarageQual', 'GarageCond' , 'GarageYrBlt'):\n",
    "    all_data[col] = all_data[col].fillna('None')\n",
    "    \n",
    "print(all_data['GarageType'].isnull().sum())\n",
    "print(all_data['GarageFinish'].isnull().sum())\n",
    "print(all_data['GarageQual'].isnull().sum())\n",
    "print(all_data['GarageCond'].isnull().sum())\n",
    "print(all_data['GarageYrBlt'].isnull().sum())"
   ]
  },
  {
   "cell_type": "code",
   "execution_count": 7,
   "metadata": {},
   "outputs": [
    {
     "name": "stdout",
     "output_type": "stream",
     "text": [
      "0\n",
      "0\n",
      "0\n",
      "0\n",
      "0\n"
     ]
    }
   ],
   "source": [
    "#Filling Basement related columns missing value with 0\n",
    "\n",
    "for col in('BsmtQual','BsmtCond','BsmtExposure','BsmtFinType1','BsmtFinType2'):\n",
    "    all_data[col]=all_data.fillna('None')\n",
    "    \n",
    "print(all_data['BsmtQual'].isnull().sum())\n",
    "print(all_data['BsmtCond'].isnull().sum())\n",
    "print(all_data['BsmtExposure'].isnull().sum())\n",
    "print(all_data['BsmtFinType1'].isnull().sum())\n",
    "print(all_data['BsmtFinType2'].isnull().sum())"
   ]
  },
  {
   "cell_type": "code",
   "execution_count": 8,
   "metadata": {},
   "outputs": [],
   "source": [
    "#Filling Masonry veneer type and area with None and 0 repectively\n",
    "all_data['MasVnrType']=all_data['MasVnrType'].fillna('None')\n",
    "all_data['MasVnrArea']=all_data['MasVnrArea'].fillna(0)"
   ]
  },
  {
   "cell_type": "code",
   "execution_count": 9,
   "metadata": {},
   "outputs": [],
   "source": [
    "#Filling columns with mode values where very few values are missing.\n",
    "col_for_mode_fill = ('MSZoning', 'BsmtFullBath', 'BsmtHalfBath', 'Functional', 'Utilities', 'SaleType', 'KitchenQual', 'Exterior1st', 'Exterior2nd', 'Electrical')\n",
    "\n",
    "for col in col_for_mode_fill:\n",
    "    all_data[col] = all_data[col].fillna(all_data[col].mode()[0])\n",
    "\n",
    "\n",
    "for col in ('TotalBsmtSF', 'BsmtUnfSF', 'BsmtFinSF1', 'BsmtFinSF2', 'GarageCars', 'GarageArea'):\n",
    "    all_data[col] = all_data[col].fillna(0)"
   ]
  },
  {
   "cell_type": "code",
   "execution_count": 10,
   "metadata": {},
   "outputs": [],
   "source": [
    "ntrain = train_df.shape[0]\n",
    "train_data = all_data[:ntrain]\n",
    "test_data = all_data[ntrain:]\n",
    "\n",
    "train_data = train_data[:-1]\n",
    "\n",
    "#print(train_data.info().sample(10))\n"
   ]
  },
  {
   "cell_type": "code",
   "execution_count": 11,
   "metadata": {},
   "outputs": [
    {
     "name": "stderr",
     "output_type": "stream",
     "text": [
      "/Users/dgangwar/anaconda3/lib/python3.6/site-packages/ipykernel_launcher.py:10: SettingWithCopyWarning: \n",
      "A value is trying to be set on a copy of a slice from a DataFrame.\n",
      "Try using .loc[row_indexer,col_indexer] = value instead\n",
      "\n",
      "See the caveats in the documentation: http://pandas.pydata.org/pandas-docs/stable/indexing.html#indexing-view-versus-copy\n",
      "  # Remove the CWD from sys.path while we load stuff.\n"
     ]
    }
   ],
   "source": [
    "#Performing label encoading to categorical columns\n",
    "from sklearn.preprocessing import LabelEncoder\n",
    "categorical_columns = train_data.select_dtypes(exclude=[\"int64\",\"float64\"]).columns\n",
    "#print(categorical_columns)\n",
    "for col in categorical_columns:\n",
    "    lbl = LabelEncoder() \n",
    "    lbl.fit(list(train_data[col].values)) \n",
    "    train_data[col] = lbl.transform(list(train_data[col].values))\n",
    "    lbl.fit(list(test_data[col].values)) \n",
    "    test_data[col] = lbl.transform(list(test_data[col].values))\n"
   ]
  },
  {
   "cell_type": "code",
   "execution_count": 12,
   "metadata": {},
   "outputs": [
    {
     "name": "stdout",
     "output_type": "stream",
     "text": [
      "Mean squared error: 302020.75\n",
      "Variance score: -2.08\n"
     ]
    }
   ],
   "source": [
    "from sklearn import linear_model\n",
    "from sklearn.model_selection import train_test_split\n",
    "from sklearn.metrics import mean_squared_error, r2_score\n",
    "\n",
    "X_train, X_test, Y_train, Y_test = train_test_split(train_data, test_data)\n",
    "\n",
    "#print(X_train.shape)\n",
    "\n",
    "#Create linear regression object\n",
    "regr = linear_model.LinearRegression()\n",
    "regr.fit(X_train, Y_train)\n",
    "\n",
    "\n",
    "predict_Y = regr.predict(X_test)\n",
    "\n",
    "#print('Coefficients: \\n', regr.coef_)\n",
    "\n",
    "print(\"Mean squared error: %.2f\"\n",
    "      % mean_squared_error(Y_test, predict_Y))\n",
    "print('Variance score: %.2f' % r2_score(Y_test, X_test))"
   ]
  },
  {
   "cell_type": "code",
   "execution_count": 13,
   "metadata": {},
   "outputs": [
    {
     "data": {
      "image/png": "[encoded data removed]",
      "text/plain": [
       "<Figure size 432x288 with 1 Axes>"
      ]
     },
     "metadata": {},
     "output_type": "display_data"
    }
   ],
   "source": [
    "plt.scatter(X_test, Y_test,  color='black')\n",
    "plt.plot(X_test, X_test, color='blue', linewidth=3)\n",
    "\n",
    "plt.xticks(())\n",
    "plt.yticks(())\n",
    "\n",
    "plt.show()"
   ]
  },
  {
   "cell_type": "code",
   "execution_count": null,
   "metadata": {},
   "outputs": [],
   "source": []
  }
 ],
 "metadata": {
  "kernelspec": {
   "display_name": "Python 3",
   "language": "python",
   "name": "python3"
  },
  "language_info": {
   "codemirror_mode": {
    "name": "ipython",
    "version": 3
   },
   "file_extension": ".py",
   "mimetype": "text/x-python",
   "name": "python",
   "nbconvert_exporter": "python",
   "pygments_lexer": "ipython3",
   "version": "3.6.5"
  }
 },
 "nbformat": 4,
 "nbformat_minor": 2
}
