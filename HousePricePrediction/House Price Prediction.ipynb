{
 "cells": [
  {
   "cell_type": "code",
   "execution_count": 1,
   "metadata": {},
   "outputs": [],
   "source": [
    "import pandas as pd\n",
    "import tensorflow as tf\n",
    "import matplotlib.pyplot as plt\n",
    "import seaborn as sns"
   ]
  },
  {
   "cell_type": "code",
   "execution_count": 2,
   "metadata": {},
   "outputs": [
    {
     "name": "stderr",
     "output_type": "stream",
     "text": [
      "/Users/dgangwar/anaconda3/lib/python3.6/site-packages/ipykernel_launcher.py:8: FutureWarning: Sorting because non-concatenation axis is not aligned. A future version\n",
      "of pandas will change to not sort by default.\n",
      "\n",
      "To accept the future behavior, pass 'sort=True'.\n",
      "\n",
      "To retain the current behavior and silence the warning, pass sort=False\n",
      "\n",
      "  \n"
     ]
    }
   ],
   "source": [
    "train = \"data/train.csv\"\n",
    "test = \"data/test.csv\"\n",
    "\n",
    "\n",
    "train_df = pd.read_csv(train, index_col='Id')\n",
    "test_df = pd.read_csv(test, index_col='Id')\n",
    "\n",
    "all_data = pd.concat((train_df, test_df), sort=False)\n",
    "\n",
    "#print(all_data.head(10))\n",
    "\n",
    "#print (all_data.columns)"
   ]
  },
  {
   "cell_type": "code",
   "execution_count": 3,
   "metadata": {},
   "outputs": [
    {
     "name": "stdout",
     "output_type": "stream",
     "text": [
      "PoolQC          99.657417\n",
      "MiscFeature     96.402878\n",
      "Alley           93.216855\n",
      "Fence           80.438506\n",
      "SalePrice       49.982871\n",
      "FireplaceQu     48.646797\n",
      "LotFrontage     16.649538\n",
      "GarageQual       5.447071\n",
      "GarageYrBlt      5.447071\n",
      "GarageFinish     5.447071\n",
      "GarageCond       5.447071\n",
      "GarageType       5.378554\n",
      "BsmtCond         2.809181\n",
      "BsmtExposure     2.809181\n",
      "BsmtQual         2.774923\n",
      "BsmtFinType2     2.740665\n",
      "BsmtFinType1     2.706406\n",
      "MasVnrType       0.822199\n",
      "MasVnrArea       0.787941\n",
      "MSZoning         0.137033\n",
      "dtype: float64\n"
     ]
    }
   ],
   "source": [
    "# Check if any column contains a NaN value\n",
    "#print(df.isnull().any())\n",
    "\n",
    "# Provides a NaN count for each column.\n",
    "#print(df.isnull().sum())\n",
    "\n",
    "# Checking % data is null set in the data columns\n",
    "null_col = (all_data.isnull().sum()/len(all_data)) * 100\n",
    "null_col = null_col.sort_values(ascending=False)\n",
    "print(null_col[:20])\n",
    "\n",
    "# Remove column if all value in it are NaN.\n",
    "#df = df.dropna(axis=1, how='all')\n",
    "\n",
    "# Remove row if all value in it are NaN.\n",
    "#df = df.dropna(axis=0, how='all')\n",
    "\n",
    "#df = df.isnull().sum()\n",
    "#print (df)"
   ]
  },
  {
   "cell_type": "code",
   "execution_count": 4,
   "metadata": {},
   "outputs": [
    {
     "name": "stdout",
     "output_type": "stream",
     "text": [
      "Index(['1stFlrSF', '2ndFlrSF', '3SsnPorch', 'BedroomAbvGr', 'BldgType',\n",
      "       'BsmtCond', 'BsmtExposure', 'BsmtFinSF1', 'BsmtFinSF2', 'BsmtFinType1',\n",
      "       'BsmtFinType2', 'BsmtFullBath', 'BsmtHalfBath', 'BsmtQual', 'BsmtUnfSF',\n",
      "       'CentralAir', 'Condition1', 'Condition2', 'Electrical', 'EnclosedPorch',\n",
      "       'ExterCond', 'ExterQual', 'Exterior1st', 'Exterior2nd', 'Fireplaces',\n",
      "       'Foundation', 'FullBath', 'Functional', 'GarageArea', 'GarageCars',\n",
      "       'GarageCond', 'GarageFinish', 'GarageQual', 'GarageType', 'GarageYrBlt',\n",
      "       'GrLivArea', 'HalfBath', 'Heating', 'HeatingQC', 'HouseStyle',\n",
      "       'KitchenAbvGr', 'KitchenQual', 'LandContour', 'LandSlope', 'LotArea',\n",
      "       'LotConfig', 'LotFrontage', 'LotShape', 'LowQualFinSF', 'MSSubClass',\n",
      "       'MSZoning', 'MasVnrArea', 'MasVnrType', 'MiscVal', 'MoSold',\n",
      "       'Neighborhood', 'OpenPorchSF', 'OverallCond', 'OverallQual',\n",
      "       'PavedDrive', 'PoolArea', 'RoofMatl', 'RoofStyle', 'SaleCondition',\n",
      "       'SalePrice', 'SaleType', 'ScreenPorch', 'Street', 'TotRmsAbvGrd',\n",
      "       'TotalBsmtSF', 'Utilities', 'WoodDeckSF', 'YearBuilt', 'YearRemodAdd',\n",
      "       'YrSold'],\n",
      "      dtype='object')\n"
     ]
    }
   ],
   "source": [
    "# Dropping columns which has mostly all data cell as Null\n",
    "all_data.drop(columns= {'PoolQC', 'MiscFeature', 'Alley', 'Fence', 'FireplaceQu'}, inplace=True)\n",
    "print(all_data.columns)"
   ]
  },
  {
   "cell_type": "code",
   "execution_count": null,
   "metadata": {},
   "outputs": [],
   "source": []
  }
 ],
 "metadata": {
  "kernelspec": {
   "display_name": "Python 3",
   "language": "python",
   "name": "python3"
  },
  "language_info": {
   "codemirror_mode": {
    "name": "ipython",
    "version": 3
   },
   "file_extension": ".py",
   "mimetype": "text/x-python",
   "name": "python",
   "nbconvert_exporter": "python",
   "pygments_lexer": "ipython3",
   "version": "3.6.5"
  }
 },
 "nbformat": 4,
 "nbformat_minor": 2
}
