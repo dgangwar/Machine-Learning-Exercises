{
 "cells": [
  {
   "cell_type": "code",
   "execution_count": 1,
   "metadata": {},
   "outputs": [],
   "source": [
    "import pandas as pd\n",
    "import tensorflow as tf\n",
    "import matplotlib.pyplot as plt\n",
    "import seaborn as sns"
   ]
  },
  {
   "cell_type": "code",
   "execution_count": 2,
   "metadata": {},
   "outputs": [
    {
     "name": "stdout",
     "output_type": "stream",
     "text": [
      "(1459, 79)\n",
      "(1460, 79)\n"
     ]
    }
   ],
   "source": [
    "train = \"data/train.csv\"\n",
    "test = \"data/test.csv\"\n",
    "\n",
    "\n",
    "train_df = pd.read_csv(train, index_col='Id')\n",
    "test_df = pd.read_csv(test, index_col='Id')\n",
    "\n",
    "Y_col = train_df['SalePrice']\n",
    "\n",
    "train_df = train_df.drop(columns = 'SalePrice')\n",
    "\n",
    "all_data = pd.concat((train_df, test_df), sort=False)\n",
    "\n",
    "print(test_df.shape)\n",
    "print(train_df.shape)"
   ]
  },
  {
   "cell_type": "code",
   "execution_count": 10,
   "metadata": {},
   "outputs": [
    {
     "name": "stdout",
     "output_type": "stream",
     "text": [
      "MSZoning         4\n",
      "Utilities        2\n",
      "BsmtFullBath     2\n",
      "BsmtHalfBath     2\n",
      "Functional       2\n",
      "TotalBsmtSF      1\n",
      "GarageCars       1\n",
      "BsmtFinSF2       1\n",
      "BsmtUnfSF        1\n",
      "SaleType         1\n",
      "Electrical       1\n",
      "Exterior2nd      1\n",
      "Exterior1st      1\n",
      "KitchenQual      1\n",
      "BsmtFinSF1       1\n",
      "GarageArea       1\n",
      "LandContour      0\n",
      "BsmtCond         0\n",
      "LotFrontage      0\n",
      "LotArea          0\n",
      "Street           0\n",
      "BsmtQual         0\n",
      "Foundation       0\n",
      "ExterCond        0\n",
      "LotShape         0\n",
      "ExterQual        0\n",
      "MasVnrArea       0\n",
      "MasVnrType       0\n",
      "LotConfig        0\n",
      "BldgType         0\n",
      "                ..\n",
      "GarageYrBlt      0\n",
      "YrSold           0\n",
      "MoSold           0\n",
      "MiscVal          0\n",
      "PoolArea         0\n",
      "ScreenPorch      0\n",
      "3SsnPorch        0\n",
      "EnclosedPorch    0\n",
      "OpenPorchSF      0\n",
      "WoodDeckSF       0\n",
      "PavedDrive       0\n",
      "GarageCond       0\n",
      "GarageQual       0\n",
      "GarageFinish     0\n",
      "GarageType       0\n",
      "BsmtFinType2     0\n",
      "Fireplaces       0\n",
      "TotRmsAbvGrd     0\n",
      "KitchenAbvGr     0\n",
      "BedroomAbvGr     0\n",
      "HalfBath         0\n",
      "FullBath         0\n",
      "GrLivArea        0\n",
      "LowQualFinSF     0\n",
      "2ndFlrSF         0\n",
      "1stFlrSF         0\n",
      "CentralAir       0\n",
      "HeatingQC        0\n",
      "Heating          0\n",
      "MSSubClass       0\n",
      "Length: 74, dtype: int64\n"
     ]
    }
   ],
   "source": [
    "# Check if any column contains a NaN value\n",
    "#print(df.isnull().any())\n",
    "\n",
    "# Provides a NaN count for each column.\n",
    "#print(df.isnull().sum())\n",
    "\n",
    "# Checking % data is null set in the data columns\n",
    "null_col = (all_data.isnull().sum()/len(all_data)) * 100\n",
    "null_col = null_col.sort_values(ascending=False)\n",
    "#print(null_col[:40])\n",
    "print(all_data.isnull().sum().sort_values(ascending=False))\n",
    "\n",
    "# Remove column if all value in it are NaN.\n",
    "#df = df.dropna(axis=1, how='all')\n",
    "\n",
    "# Remove row if all value in it are NaN.\n",
    "#df = df.dropna(axis=0, how='all')\n",
    "\n",
    "#df = df.isnull().sum()\n",
    "#print (df)"
   ]
  },
  {
   "cell_type": "code",
   "execution_count": 4,
   "metadata": {},
   "outputs": [
    {
     "name": "stdout",
     "output_type": "stream",
     "text": [
      "Index(['MSSubClass', 'MSZoning', 'LotFrontage', 'LotArea', 'Street',\n",
      "       'LotShape', 'LandContour', 'Utilities', 'LotConfig', 'LandSlope',\n",
      "       'Neighborhood', 'Condition1', 'Condition2', 'BldgType', 'HouseStyle',\n",
      "       'OverallQual', 'OverallCond', 'YearBuilt', 'YearRemodAdd', 'RoofStyle',\n",
      "       'RoofMatl', 'Exterior1st', 'Exterior2nd', 'MasVnrType', 'MasVnrArea',\n",
      "       'ExterQual', 'ExterCond', 'Foundation', 'BsmtQual', 'BsmtCond',\n",
      "       'BsmtExposure', 'BsmtFinType1', 'BsmtFinSF1', 'BsmtFinType2',\n",
      "       'BsmtFinSF2', 'BsmtUnfSF', 'TotalBsmtSF', 'Heating', 'HeatingQC',\n",
      "       'CentralAir', 'Electrical', '1stFlrSF', '2ndFlrSF', 'LowQualFinSF',\n",
      "       'GrLivArea', 'BsmtFullBath', 'BsmtHalfBath', 'FullBath', 'HalfBath',\n",
      "       'BedroomAbvGr', 'KitchenAbvGr', 'KitchenQual', 'TotRmsAbvGrd',\n",
      "       'Functional', 'Fireplaces', 'GarageType', 'GarageYrBlt', 'GarageFinish',\n",
      "       'GarageCars', 'GarageArea', 'GarageQual', 'GarageCond', 'PavedDrive',\n",
      "       'WoodDeckSF', 'OpenPorchSF', 'EnclosedPorch', '3SsnPorch',\n",
      "       'ScreenPorch', 'PoolArea', 'MiscVal', 'MoSold', 'YrSold', 'SaleType',\n",
      "       'SaleCondition'],\n",
      "      dtype='object')\n"
     ]
    }
   ],
   "source": [
    "# Dropping columns which has mostly all data cell as Null\n",
    "all_data = all_data.drop(columns = {'PoolQC', 'MiscFeature', 'Alley', 'Fence', 'FireplaceQu'})\n",
    "print(all_data.columns)"
   ]
  },
  {
   "cell_type": "code",
   "execution_count": 5,
   "metadata": {},
   "outputs": [
    {
     "name": "stdout",
     "output_type": "stream",
     "text": [
      "0\n"
     ]
    }
   ],
   "source": [
    "#Filling LotForntage cell with median value\n",
    "LotFrontAge_Col_Grouped = all_data.groupby(\"Neighborhood\")[\"LotFrontage\"]\n",
    "\n",
    "#Check each tuple values\n",
    "#for item in LotFrontAge_Col_Grouped:\n",
    "    #print(item)\n",
    "    \n",
    "all_data['LotFrontage'] = LotFrontAge_Col_Grouped.transform(lambda x : x.fillna(x.median()))\n",
    "\n",
    "#Check NaN values\n",
    "print(all_data['LotFrontage'].isnull().sum())"
   ]
  },
  {
   "cell_type": "code",
   "execution_count": 6,
   "metadata": {},
   "outputs": [
    {
     "name": "stdout",
     "output_type": "stream",
     "text": [
      "0\n",
      "0\n",
      "0\n",
      "0\n",
      "0\n"
     ]
    }
   ],
   "source": [
    "#Filling Garage related columns missing value with 0\n",
    "\n",
    "for col in ('GarageType', 'GarageFinish', 'GarageQual', 'GarageCond' , 'GarageYrBlt'):\n",
    "    all_data[col] = all_data[col].fillna('None')\n",
    "    \n",
    "print(all_data['GarageType'].isnull().sum())\n",
    "print(all_data['GarageFinish'].isnull().sum())\n",
    "print(all_data['GarageQual'].isnull().sum())\n",
    "print(all_data['GarageCond'].isnull().sum())\n",
    "print(all_data['GarageYrBlt'].isnull().sum())"
   ]
  },
  {
   "cell_type": "code",
   "execution_count": 7,
   "metadata": {},
   "outputs": [
    {
     "name": "stdout",
     "output_type": "stream",
     "text": [
      "0\n",
      "0\n",
      "0\n",
      "0\n",
      "0\n"
     ]
    }
   ],
   "source": [
    "#Filling Basement related columns missing value with 0\n",
    "\n",
    "for col in('BsmtQual','BsmtCond','BsmtExposure','BsmtFinType1','BsmtFinType2'):\n",
    "    all_data[col]=all_data.fillna('None')\n",
    "    \n",
    "print(all_data['BsmtQual'].isnull().sum())\n",
    "print(all_data['BsmtCond'].isnull().sum())\n",
    "print(all_data['BsmtExposure'].isnull().sum())\n",
    "print(all_data['BsmtFinType1'].isnull().sum())\n",
    "print(all_data['BsmtFinType2'].isnull().sum())"
   ]
  },
  {
   "cell_type": "code",
   "execution_count": 8,
   "metadata": {},
   "outputs": [],
   "source": [
    "#Filling Masonry veneer type and area with None and 0 repectively\n",
    "all_data['MasVnrType']=all_data['MasVnrType'].fillna('None')\n",
    "all_data['MasVnrArea']=all_data['MasVnrArea'].fillna(0)"
   ]
  },
  {
   "cell_type": "code",
   "execution_count": null,
   "metadata": {},
   "outputs": [],
   "source": []
  }
 ],
 "metadata": {
  "kernelspec": {
   "display_name": "Python 3",
   "language": "python",
   "name": "python3"
  },
  "language_info": {
   "codemirror_mode": {
    "name": "ipython",
    "version": 3
   },
   "file_extension": ".py",
   "mimetype": "text/x-python",
   "name": "python",
   "nbconvert_exporter": "python",
   "pygments_lexer": "ipython3",
   "version": "3.6.5"
  }
 },
 "nbformat": 4,
 "nbformat_minor": 2
}
